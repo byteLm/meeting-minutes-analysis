{
 "cells": [
  {
   "cell_type": "markdown",
   "id": "b8420e5a",
   "metadata": {},
   "source": [
    "# **Setup**"
   ]
  },
  {
   "cell_type": "markdown",
   "id": "1e76a733",
   "metadata": {},
   "source": [
    "## **Import libraries**"
   ]
  },
  {
   "cell_type": "code",
   "execution_count": 2,
   "id": "c0fc2031",
   "metadata": {},
   "outputs": [],
   "source": [
    "import sys\n",
    "import os\n",
    "sys.path.append(os.path.abspath(os.path.join(os.getcwd(), '..')))\n",
    "\n",
    "import pandas as pd\n",
    "from datetime import datetime\n",
    "import pdfplumber\n",
    "from typing import Dict, Optional\n",
    "import requests\n",
    "import json\n",
    "import re\n",
    "\n",
    "from src.pdf_processor import PDFProcessor\n"
   ]
  },
  {
   "cell_type": "markdown",
   "id": "0790a476",
   "metadata": {},
   "source": [
    "## **Don't forget:**\n",
    "\n",
    "- Install Ollama: https://ollama.ai/download\n",
    "- Download a model (4-7B is enough)\n",
    "- Using *qwen3:8b*, remember to enable Ollama to accept external requests!\n",
    "- Run: `ollama serve`"
   ]
  },
  {
   "cell_type": "markdown",
   "id": "eba7da01",
   "metadata": {},
   "source": [
    "# **Get Data**"
   ]
  },
  {
   "cell_type": "code",
   "execution_count": null,
   "id": "bb241990",
   "metadata": {},
   "outputs": [
    {
     "name": "stdout",
     "output_type": "stream",
     "text": [
      "Encontrados 45 arquivos PDF para processar...\n",
      "Processando: Ata_CBH_LN_2012_02_Ord.pdf\n",
      "Usando LLM para extrair data de Ata_CBH_LN_2012_02_Ord.pdf...\n",
      "Processando: Ata_CBH_LN_2012_03_Ord.pdf\n",
      "Usando LLM para extrair data de Ata_CBH_LN_2012_03_Ord.pdf...\n",
      "Processando: Ata_CBH_LN_2013_01_Ord.pdf\n",
      "Usando LLM para extrair data de Ata_CBH_LN_2013_01_Ord.pdf...\n",
      "Processando: Ata_CBH_LN_2013_02_Ord.pdf\n",
      "Usando LLM para extrair data de Ata_CBH_LN_2013_02_Ord.pdf...\n",
      "Processando: Ata_CBH_LN_2013_03_Ord.pdf\n",
      "Processando: Ata_CBH_LN_2014_01_Ord.pdf\n",
      "Usando LLM para extrair data de Ata_CBH_LN_2014_01_Ord.pdf...\n"
     ]
    }
   ],
   "source": [
    "\n",
    "# Função principal para uso\n",
    "def main():\n",
    "    # Configurar o diretório onde os PDFs estão armazenados\n",
    "    pdf_directory = os.path.join(os.getcwd(), \"..\", \"CBH_LN/\")\n",
    "    \n",
    "    # Criar processador\n",
    "    processor = PDFProcessor(pdf_directory)\n",
    "    \n",
    "    # Processar todos os arquivos\n",
    "    df_atas = processor.process_all_files()\n",
    "\n",
    "    df_atas = processor.debug_dates(df_atas)\n",
    "\n",
    "    \n",
    "    # Exibir resultados\n",
    "    print(f\"\\nProcessamento concluído. {len(df_atas)} atas processadas.\")\n",
    "    print(\"\\nPrimeiras linhas do DataFrame:\")\n",
    "    print(df_atas.head())\n",
    "    \n",
    "    # Salvar resultados\n",
    "    output_file = \"atas_processadas.csv\"\n",
    "    df_atas.to_csv(output_file, index=False, encoding='utf-8')\n",
    "    print(f\"\\nDataFrame salvo em: {output_file}\")\n",
    "    \n",
    "    return df_atas\n",
    "\n",
    "# Exemplo de uso específico\n",
    "if __name__ == \"__main__\":\n",
    "    # Executar processamento\n",
    "    dataframe_atas = main()\n"
   ]
  },
  {
   "cell_type": "code",
   "execution_count": null,
   "id": "1b984a93",
   "metadata": {},
   "outputs": [
    {
     "data": {
      "text/html": [
       "<div>\n",
       "<style scoped>\n",
       "    .dataframe tbody tr th:only-of-type {\n",
       "        vertical-align: middle;\n",
       "    }\n",
       "\n",
       "    .dataframe tbody tr th {\n",
       "        vertical-align: top;\n",
       "    }\n",
       "\n",
       "    .dataframe thead th {\n",
       "        text-align: right;\n",
       "    }\n",
       "</style>\n",
       "<table border=\"1\" class=\"dataframe\">\n",
       "  <thead>\n",
       "    <tr style=\"text-align: right;\">\n",
       "      <th></th>\n",
       "      <th>ID</th>\n",
       "      <th>Data</th>\n",
       "      <th>CBH</th>\n",
       "      <th>Tipo</th>\n",
       "      <th>Texto</th>\n",
       "    </tr>\n",
       "  </thead>\n",
       "  <tbody>\n",
       "    <tr>\n",
       "      <th>1</th>\n",
       "      <td>Ata_CBH_LN_2012_03_Ord.pdf</td>\n",
       "      <td>2012-05-03</td>\n",
       "      <td>Litoral Norte</td>\n",
       "      <td>ord</td>\n",
       "      <td>COMITÊ DAS BACIAS HIDROGRÁFICAS DO LITORAL NOR...</td>\n",
       "    </tr>\n",
       "    <tr>\n",
       "      <th>0</th>\n",
       "      <td>Ata_CBH_LN_2012_02_Ord.pdf</td>\n",
       "      <td>2012-07-11</td>\n",
       "      <td>Litoral Norte</td>\n",
       "      <td>ord</td>\n",
       "      <td>COMITÊ DAS BACIAS HIDROGRÁFICAS DO LITORAL\\nNO...</td>\n",
       "    </tr>\n",
       "    <tr>\n",
       "      <th>2</th>\n",
       "      <td>Ata_CBH_LN_2013_01_Ord.pdf</td>\n",
       "      <td>2013-03-13</td>\n",
       "      <td>Litoral Norte</td>\n",
       "      <td>ord</td>\n",
       "      <td>1\\nCOMITÊ DAS BACIAS HIDROGRÁFICAS DO LITORAL ...</td>\n",
       "    </tr>\n",
       "    <tr>\n",
       "      <th>3</th>\n",
       "      <td>Ata_CBH_LN_2013_02_Ord.pdf</td>\n",
       "      <td>2013-06-04</td>\n",
       "      <td>Litoral Norte</td>\n",
       "      <td>ord</td>\n",
       "      <td>COMITÊ DAS BACIAS HIDROGRÁFICAS DO LITORAL NOR...</td>\n",
       "    </tr>\n",
       "    <tr>\n",
       "      <th>4</th>\n",
       "      <td>Ata_CBH_LN_2013_03_Ord.pdf</td>\n",
       "      <td>2013-12-12</td>\n",
       "      <td>Litoral Norte</td>\n",
       "      <td>ord</td>\n",
       "      <td>COMITÊ DAS BACIAS HIDROGRÁFICAS DO LITORAL NOR...</td>\n",
       "    </tr>\n",
       "  </tbody>\n",
       "</table>\n",
       "</div>"
      ],
      "text/plain": [
       "                           ID       Data            CBH Tipo  \\\n",
       "1  Ata_CBH_LN_2012_03_Ord.pdf 2012-05-03  Litoral Norte  ord   \n",
       "0  Ata_CBH_LN_2012_02_Ord.pdf 2012-07-11  Litoral Norte  ord   \n",
       "2  Ata_CBH_LN_2013_01_Ord.pdf 2013-03-13  Litoral Norte  ord   \n",
       "3  Ata_CBH_LN_2013_02_Ord.pdf 2013-06-04  Litoral Norte  ord   \n",
       "4  Ata_CBH_LN_2013_03_Ord.pdf 2013-12-12  Litoral Norte  ord   \n",
       "\n",
       "                                               Texto  \n",
       "1  COMITÊ DAS BACIAS HIDROGRÁFICAS DO LITORAL NOR...  \n",
       "0  COMITÊ DAS BACIAS HIDROGRÁFICAS DO LITORAL\\nNO...  \n",
       "2  1\\nCOMITÊ DAS BACIAS HIDROGRÁFICAS DO LITORAL ...  \n",
       "3  COMITÊ DAS BACIAS HIDROGRÁFICAS DO LITORAL NOR...  \n",
       "4  COMITÊ DAS BACIAS HIDROGRÁFICAS DO LITORAL NOR...  "
      ]
     },
     "execution_count": 102,
     "metadata": {},
     "output_type": "execute_result"
    }
   ],
   "source": [
    "dataframe_atas.head()"
   ]
  },
  {
   "cell_type": "code",
   "execution_count": null,
   "id": "4727b704",
   "metadata": {},
   "outputs": [
    {
     "data": {
      "text/html": [
       "<div>\n",
       "<style scoped>\n",
       "    .dataframe tbody tr th:only-of-type {\n",
       "        vertical-align: middle;\n",
       "    }\n",
       "\n",
       "    .dataframe tbody tr th {\n",
       "        vertical-align: top;\n",
       "    }\n",
       "\n",
       "    .dataframe thead th {\n",
       "        text-align: right;\n",
       "    }\n",
       "</style>\n",
       "<table border=\"1\" class=\"dataframe\">\n",
       "  <thead>\n",
       "    <tr style=\"text-align: right;\">\n",
       "      <th></th>\n",
       "      <th>ID</th>\n",
       "      <th>Data</th>\n",
       "      <th>CBH</th>\n",
       "      <th>Tipo</th>\n",
       "      <th>Texto</th>\n",
       "    </tr>\n",
       "  </thead>\n",
       "  <tbody>\n",
       "    <tr>\n",
       "      <th>4</th>\n",
       "      <td>Ata_CBH_LN_2013_03_Ord.pdf</td>\n",
       "      <td>2013-12-12</td>\n",
       "      <td>Litoral Norte</td>\n",
       "      <td>ord</td>\n",
       "      <td>COMITÊ DAS BACIAS HIDROGRÁFICAS DO LITORAL NOR...</td>\n",
       "    </tr>\n",
       "  </tbody>\n",
       "</table>\n",
       "</div>"
      ],
      "text/plain": [
       "                           ID       Data            CBH Tipo  \\\n",
       "4  Ata_CBH_LN_2013_03_Ord.pdf 2013-12-12  Litoral Norte  ord   \n",
       "\n",
       "                                               Texto  \n",
       "4  COMITÊ DAS BACIAS HIDROGRÁFICAS DO LITORAL NOR...  "
      ]
     },
     "execution_count": 103,
     "metadata": {},
     "output_type": "execute_result"
    }
   ],
   "source": [
    "dataframe_atas[dataframe_atas['ID'] == \"Ata_CBH_LN_2013_03_Ord.pdf\"]"
   ]
  },
  {
   "cell_type": "markdown",
   "id": "bb3d7cb2",
   "metadata": {},
   "source": [
    "# **Some tests**"
   ]
  },
  {
   "cell_type": "code",
   "execution_count": 104,
   "id": "41199776",
   "metadata": {},
   "outputs": [
    {
     "name": "stdout",
     "output_type": "stream",
     "text": [
      "Index(['ID', 'Data', 'CBH', 'Tipo', 'Texto'], dtype='object')\n",
      "17   2017-11-16\n",
      "Name: Data, dtype: datetime64[ns]\n"
     ]
    }
   ],
   "source": [
    "print(dataframe_atas.columns)\n",
    "print(dataframe_atas[dataframe_atas['ID'] == \"Ata_CBH_LN_2017_04_Ord.pdf\"]['Data'])"
   ]
  },
  {
   "cell_type": "code",
   "execution_count": 105,
   "id": "8b6ef293",
   "metadata": {},
   "outputs": [
    {
     "name": "stdout",
     "output_type": "stream",
     "text": [
      "Todos os arquivos foram processados e estão no DataFrame.\n"
     ]
    }
   ],
   "source": [
    "# verificando se todos os arquivos da pasta estão no dataframe\n",
    "if (len(dataframe_atas) == len([f for f in os.listdir(\"CBH_LN/\") \n",
    "                    if f.lower().endswith('.pdf')])):\n",
    "    print(\"Todos os arquivos foram processados e estão no DataFrame.\")"
   ]
  },
  {
   "cell_type": "code",
   "execution_count": null,
   "id": "18f3c725",
   "metadata": {},
   "outputs": [
    {
     "name": "stdout",
     "output_type": "stream",
     "text": [
      "Instância não encontrada: Ata_CBH_LN_2024_01_Ord.pdf, 2024-03-20, Litoral Norte, ord, snippet: 'uma frase aleatória que não deve existir no texto...'\n",
      "Instância não encontrada: Ata_CBH_LN_2024_01_Ord.pdf, 2024-03-21, Litoral Norte, ord, snippet: 'temberg da Silva Silvino (Representante da UFPB,'\n"
     ]
    }
   ],
   "source": [
    "from datetime import datetime\n",
    "import re\n",
    "import pandas as pd\n",
    "\n",
    "def contains_instance(df: pd.DataFrame, filepath: str, data: str, cbh: str, tipo: str, text_snippet: str) -> bool:\n",
    "    \"\"\"\n",
    "    Verifica se o DataFrame contém uma instância com os dados fornecidos.\n",
    "    \"\"\"\n",
    "    if df.empty:\n",
    "        return False\n",
    "\n",
    "    # Converter data para string no formato YYYY-MM-DD\n",
    "    try:\n",
    "        data_str = datetime.strptime(data, \"%Y-%m-%d\").strftime(\"%Y-%m-%d\")\n",
    "    except Exception:\n",
    "        data_str = data\n",
    "\n",
    "    # Normalizar o texto e o snippet para comparação (remover espaços extras, quebras de linha, etc.)\n",
    "    def normalize_text(text):\n",
    "        if pd.isna(text):\n",
    "            return \"\"\n",
    "        # Substituir múltiplos espaços/quebras de linha por um único espaço\n",
    "        text = re.sub(r'\\s+', ' ', str(text))\n",
    "        return text.strip()\n",
    "    \n",
    "    # Filtrar DataFrame com base nos critérios fornecidos\n",
    "    filtered_df = df[\n",
    "        (df['ID'] == filepath) &\n",
    "        (df['Data'].notna()) &\n",
    "        (df['Data'].astype(str) == data_str) &\n",
    "        (df['CBH'] == cbh) &\n",
    "        (df['Tipo'] == tipo)\n",
    "    ]\n",
    "    \n",
    "    # Verificar se o snippet está no texto (com normalização)\n",
    "    if not filtered_df.empty:\n",
    "        normalized_snippet = normalize_text(text_snippet)\n",
    "        text_matches = filtered_df['Texto'].apply(\n",
    "            lambda x: normalize_text(x).find(normalize_text(text_snippet)) != -1\n",
    "        )\n",
    "        filtered_df = filtered_df[text_matches]\n",
    "\n",
    "    if filtered_df.empty:\n",
    "        print(f\"Instância não encontrada: {filepath}, {data}, {cbh}, {tipo}, snippet: '{text_snippet}'\")\n",
    "    \n",
    "    return not filtered_df.empty\n",
    "\n",
    "test_cases = [\n",
    "    {\n",
    "        \"filepath\": \"Ata_CBH_LN_2013_03_Ord.pdf\",\n",
    "        \"data\": \"2013-12-12\",\n",
    "        \"cbh\": \"Litoral Norte\",\n",
    "        \"tipo\": \"ord\",\n",
    "        \"text_snippet\": \"AESA. E também a escolha do representante para substituir o Sr. Marlindo Francili\",\n",
    "        \"expected\": True\n",
    "    },\n",
    "    {\n",
    "        \"filepath\": \"Ata_CBH_LN_2017_04_Ord.pdf\",\n",
    "        \"data\": \"2017-11-16\",\n",
    "        \"cbh\": \"Litoral Norte\",\n",
    "        \"tipo\": \"ord\",\n",
    "        \"text_snippet\": \"reunião anterior; 2. Informes da diretoria; 3. Apresentação sobre o Pro\",\n",
    "        \"expected\": True\n",
    "    },\n",
    "    {\n",
    "        \"filepath\": \"Ata_CBH_LN_2024_01_Ord.pdf\",\n",
    "        \"data\": \"2024-03-20\",\n",
    "        \"cbh\": \"Litoral Norte\",\n",
    "        \"tipo\": \"ord\",\n",
    "        \"text_snippet\": \"Gutemberg da Silva Silvino (Representante da UFPB, Campus II, Areia/PB) pelo apo\",\n",
    "        \"expected\": True\n",
    "    },\n",
    "    {\n",
    "        \"filepath\": \"Ata_CBH_LN_2024_01_Ord.pdf\",\n",
    "        \"data\": \"2024-03-20\",\n",
    "        \"cbh\": \"Litoral Norte\",\n",
    "        \"tipo\": \"ord\",\n",
    "        \"text_snippet\": \"uma frase aleatória que não deve existir no texto...\", # frase errada\n",
    "        \"expected\": False\n",
    "    },\n",
    "    {\n",
    "        \"filepath\": \"Ata_CBH_LN_2024_01_Ord.pdf\",\n",
    "        \"data\": \"2024-03-21\", # data errada\n",
    "        \"cbh\": \"Litoral Norte\",\n",
    "        \"tipo\": \"ord\",\n",
    "        \"text_snippet\": \"temberg da Silva Silvino (Representante da UFPB,\",\n",
    "        \"expected\": False\n",
    "    }\n",
    "]\n",
    "\n",
    "# Executar testes\n",
    "for i, test in enumerate(test_cases):\n",
    "    result = contains_instance(\n",
    "        dataframe_atas,\n",
    "        test[\"filepath\"],\n",
    "        test[\"data\"],\n",
    "        test[\"cbh\"],\n",
    "        test[\"tipo\"],\n",
    "        test[\"text_snippet\"]\n",
    "    )\n",
    "    \n",
    "    if result != test[\"expected\"]:\n",
    "        print(f\"Teste {i+1} falhou: esperado {test['expected']}, obteve {result}\")\n",
    "        \n",
    "        # Verifica cada campo individualmente\n",
    "        row = dataframe_atas[dataframe_atas['ID'] == test[\"filepath\"]]\n",
    "        if row.empty:\n",
    "            print(f\"Falha no campo 'ID': {test['filepath']}\")\n",
    "        else:\n",
    "            if not (row['Data'].astype(str) == test[\"data\"]).any():\n",
    "                print(f\"Falha no campo 'Data': esperado {test['data']}, obtido {row['Data'].values[0]}\")\n",
    "            if not (row['CBH'] == test[\"cbh\"]).any():\n",
    "                print(f\"Falha no campo 'CBH': esperado {test['cbh']}, obtido {row['CBH'].values[0]}\")\n",
    "            if not (row['Tipo'] == test[\"tipo\"]).any():\n",
    "                print(f\"Falha no campo 'Tipo': esperado {test['tipo']}, obtido {row['Tipo'].values[0]}\")\n",
    "            \n",
    "            # Verifica o texto com normalização\n",
    "            def normalize_text(text):\n",
    "                if pd.isna(text):\n",
    "                    return \"\"\n",
    "                text = re.sub(r'\\s+', ' ', str(text))\n",
    "                return text.strip()\n",
    "            \n",
    "            normalized_snippet = normalize_text(test[\"text_snippet\"])\n",
    "            text_matches = row['Texto'].apply(\n",
    "                lambda x: normalize_text(x).find(normalized_snippet) != -1\n",
    "            )\n",
    "            \n",
    "            if not text_matches.any():\n",
    "                print(f\"Falha no campo 'Texto' (snippet): '{test['text_snippet']}'\")\n",
    "                print(\"Texto normalizado para comparação:\")\n",
    "                print(normalize_text(test[\"text_snippet\"]))\n",
    "                print(\"Texto real normalizado:\")\n",
    "                print(normalize_text(row['Texto'].values[0]))"
   ]
  },
  {
   "cell_type": "code",
   "execution_count": null,
   "id": "1abe4816",
   "metadata": {},
   "outputs": [],
   "source": [
    "import csv\n",
    "# Salvar o DataFrame em CSV com formatação adequada\n",
    "dataframe_atas.to_csv('atas_processadas_final.csv', \n",
    "                     index=False, \n",
    "                     encoding='utf-8-sig', \n",
    "                     quoting=csv.QUOTE_ALL,\n",
    "                     escapechar='\\\\')"
   ]
  },
  {
   "cell_type": "code",
   "execution_count": null,
   "id": "b7418769",
   "metadata": {},
   "outputs": [],
   "source": []
  },
  {
   "cell_type": "code",
   "execution_count": null,
   "id": "2e081c62",
   "metadata": {},
   "outputs": [],
   "source": []
  }
 ],
 "metadata": {
  "kernelspec": {
   "display_name": "Python 3",
   "language": "python",
   "name": "python3"
  },
  "language_info": {
   "codemirror_mode": {
    "name": "ipython",
    "version": 3
   },
   "file_extension": ".py",
   "mimetype": "text/x-python",
   "name": "python",
   "nbconvert_exporter": "python",
   "pygments_lexer": "ipython3",
   "version": "3.13.7"
  }
 },
 "nbformat": 4,
 "nbformat_minor": 5
}
